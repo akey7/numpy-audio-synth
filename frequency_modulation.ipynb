{
 "cells": [
  {
   "cell_type": "markdown",
   "metadata": {},
   "source": [
    "# Frequency Modulation"
   ]
  },
  {
   "cell_type": "markdown",
   "metadata": {},
   "source": [
    "Frequency modulation is changing the frequency of a carrier according to a modulating signal. If you look on Wikiepedia, [you can find the math behind frequency modulation](https://en.wikipedia.org/wiki/Frequency_modulation)"
   ]
  },
  {
   "cell_type": "markdown",
   "metadata": {},
   "source": [
    "$$ y(t) = A_c cos \\biggl(2\\pi f_c t + \\frac{A_m f_\\Delta}{f_m} sin \\big(2\\pi f_m t \\big)\\biggr) $$"
   ]
  },
  {
   "cell_type": "markdown",
   "metadata": {},
   "source": [
    "Where\n",
    "\n",
    "+ \\\\(A_c\\\\) is the amplitude of the carrier. In this demo, we will assume that is \\\\(A_c = 1.0\\\\). However, although we don't do it here, if you are mixing the frequency modulated carrier with other signals you can change this for mixing purposes.\n",
    "\n",
    "+ \\\\(A_m\\\\) is the amplitude of the modulating waveform.\n",
    "\n",
    "+ \\\\(f_c\\\\) is the frequency of the carrier in hertz.\n",
    "\n",
    "+ \\\\(f_m\\\\) is the frequency of the modulator in hertz.\n",
    "\n",
    "+ \\\\(f_\\Delta\\\\) is the peak deviation.\n",
    "\n",
    "+ \\\\(t\\\\) is the time in seconds.\n",
    "\n",
    "As usual with our NumPy sound calculations, we will compute this in discrete samples as:"
   ]
  },
  {
   "cell_type": "markdown",
   "metadata": {},
   "source": [
    "$$ y(t) = A_c cos \\Biggl(\\frac{2\\pi f_c t_i}{f_s} + \\frac{A_m f_\\Delta}{f_m} sin \\bigg(\\frac{2\\pi f_m t_i}{f_s} \\bigg)\\Biggr) $$"
   ]
  },
  {
   "cell_type": "markdown",
   "metadata": {},
   "source": [
    "All the variables above still apply, with the following changes.\n",
    "\n",
    "+ \\\\(t_i\\\\) is the sample number, which is an integer.\n",
    "\n",
    "+ \\\\(f_s\\\\) is the sampling rate in units of samples per second."
   ]
  },
  {
   "cell_type": "markdown",
   "metadata": {},
   "source": [
    "### Yikes that is a lot of math!\n",
    "\n",
    "Luckily we can simplify it! Let's make a **deviation coefficient** and call it \\\\(K\\\\):\n",
    "\n",
    "$$ K = \\frac{A_m f_\\Delta}{f_m} $$\n",
    "\n",
    "The higher you set \\\\(K\\\\), the more effect the modulator will have on the waveform.\n",
    "\n",
    "### Finally, this is what we will implement\n",
    "\n",
    "$$ y(t) = A_c cos \\Biggl(\\frac{2\\pi f_c t_i}{f_s} + K sin \\bigg(\\frac{2\\pi f_m t_i}{f_s} \\bigg)\\Biggr) $$\n",
    "\n",
    "And we will even assume that \\\\(A_c = 1\\\\)"
   ]
  },
  {
   "cell_type": "markdown",
   "metadata": {},
   "source": [
    "## FM to `sounddevice` and wave file, simplifed coefficient"
   ]
  },
  {
   "cell_type": "markdown",
   "metadata": {},
   "source": [
    "Import libraries"
   ]
  },
  {
   "cell_type": "code",
   "execution_count": 1,
   "metadata": {},
   "outputs": [],
   "source": [
    "import numpy as np\n",
    "from scipy.io.wavfile import write\n",
    "import sounddevice as sd\n",
    "import time"
   ]
  },
  {
   "cell_type": "markdown",
   "metadata": {},
   "source": [
    "These variables control the synthesized waveform\n",
    "\n",
    "+ `f_s`: Sample rate as samples per second.\n",
    "+ `duration_s`: Duration of the waveform in seconds.\n",
    "+ `f_c`: Frequency of the carrier, in hz\n",
    "+ `f_m`: Frequency of the modulator, in hz\n",
    "+ `k`: deviation constant. No units"
   ]
  },
  {
   "cell_type": "code",
   "execution_count": 2,
   "metadata": {},
   "outputs": [],
   "source": [
    "f_s = 44100\n",
    "duration_s = 2.5\n",
    "f_c = 440.0\n",
    "f_m = 110.0\n",
    "k = 0.0"
   ]
  },
  {
   "cell_type": "markdown",
   "metadata": {},
   "source": [
    "These lines synthesize the waveform\n",
    "\n",
    "+ `tis`: The sample number as integers\n",
    "+ `carrier`: The samples of the carrier\n",
    "+ `modulator`: The samples of the modulating waveform\n",
    "+ `waveform`: The synthesized waveform"
   ]
  },
  {
   "cell_type": "code",
   "execution_count": 3,
   "metadata": {},
   "outputs": [],
   "source": [
    "tis = np.arange(duration_s * f_s)\n",
    "carrier = 2 * np.pi * tis * f_c / f_s\n",
    "modulator = k * np.sin(2 * np.pi * tis * f_m / f_s)\n",
    "waveform = np.cos(carrier + modulator)"
   ]
  },
  {
   "cell_type": "markdown",
   "metadata": {},
   "source": [
    "Write the synthesized file.\n",
    "\n",
    "+ `waveform_quiet`: An attenuated waveform that has reasonable volume."
   ]
  },
  {
   "cell_type": "code",
   "execution_count": 4,
   "metadata": {},
   "outputs": [],
   "source": [
    "waveform_quiet = waveform * 0.3\n",
    "waveform_integers = np.int16(waveform_quiet * 32767)\n",
    "write('fm-out.wav', f_s, waveform_integers)"
   ]
  },
  {
   "cell_type": "markdown",
   "metadata": {},
   "source": [
    "Play the final waveform out the speakers"
   ]
  },
  {
   "cell_type": "code",
   "execution_count": 5,
   "metadata": {},
   "outputs": [],
   "source": [
    "sd.play(waveform_quiet, f_s)\n",
    "time.sleep(duration_s)\n",
    "sd.stop()"
   ]
  },
  {
   "cell_type": "code",
   "execution_count": null,
   "metadata": {},
   "outputs": [],
   "source": []
  }
 ],
 "metadata": {
  "kernelspec": {
   "display_name": "Python 3",
   "language": "python",
   "name": "python3"
  },
  "language_info": {
   "codemirror_mode": {
    "name": "ipython",
    "version": 3
   },
   "file_extension": ".py",
   "mimetype": "text/x-python",
   "name": "python",
   "nbconvert_exporter": "python",
   "pygments_lexer": "ipython3",
   "version": "3.6.6"
  }
 },
 "nbformat": 4,
 "nbformat_minor": 2
}
